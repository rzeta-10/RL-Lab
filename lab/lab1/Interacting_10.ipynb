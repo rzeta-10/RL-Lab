{
 "cells": [
  {
   "cell_type": "code",
   "execution_count": 1,
   "metadata": {},
   "outputs": [
    {
     "name": "stdout",
     "output_type": "stream",
     "text": [
      "Starting Episode 1\n",
      "Episode 1 finished with total reward: -25.093632958801795\n",
      "Starting Episode 2\n",
      "Episode 2 finished with total reward: -30.31358885017476\n"
     ]
    }
   ],
   "source": [
    "import gymnasium as gym\n",
    "\n",
    "# Create the environment\n",
    "#env = gym.make(\"LunarLander-v3\", render_mode=\"human\")\n",
    "#env = gym.make(\"BipedalWalker-v3\", render_mode=\"human\")\n",
    "env = gym.make(\"CarRacing-v3\", render_mode=\"human\")\n",
    "\n",
    "# Run for 10 episodes\n",
    "num_episodes = 2\n",
    "for episode in range(num_episodes):\n",
    "    print(f\"Starting Episode {episode + 1}\")\n",
    "    observation, info = env.reset()\n",
    "\n",
    "    episode_over = False\n",
    "    total_reward = 0  # To track total reward for the episode\n",
    "    while not episode_over:\n",
    "        action = env.action_space.sample()  # Agent policy that uses the observation and info\n",
    "        observation, reward, terminated, truncated, info = env.step(action)\n",
    "\n",
    "        total_reward += reward\n",
    "        episode_over = terminated or truncated\n",
    "\n",
    "    print(f\"Episode {episode + 1} finished with total reward: {total_reward}\")\n",
    "\n",
    "# Close the environment\n",
    "env.close()\n"
   ]
  }
 ],
 "metadata": {
  "kernelspec": {
   "display_name": "Python 3",
   "language": "python",
   "name": "python3"
  },
  "language_info": {
   "codemirror_mode": {
    "name": "ipython",
    "version": 3
   },
   "file_extension": ".py",
   "mimetype": "text/x-python",
   "name": "python",
   "nbconvert_exporter": "python",
   "pygments_lexer": "ipython3",
   "version": "3.11.6"
  }
 },
 "nbformat": 4,
 "nbformat_minor": 2
}
